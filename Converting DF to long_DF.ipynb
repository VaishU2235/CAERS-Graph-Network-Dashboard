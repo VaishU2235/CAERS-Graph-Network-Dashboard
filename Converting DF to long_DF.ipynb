{
 "cells": [
  {
   "cell_type": "code",
   "execution_count": 28,
   "metadata": {
    "id": "lc6q9KuWwyh6"
   },
   "outputs": [],
   "source": [
    "import networkx as nx\n",
    "import pandas as pd\n",
    "import numpy as np\n",
    "from tqdm import tqdm"
   ]
  },
  {
   "cell_type": "code",
   "execution_count": 29,
   "metadata": {
    "id": "fNL9PiP5wyiD"
   },
   "outputs": [],
   "source": [
    "df=pd.read_csv(\"CAERS_ASCII_2004_2017Q2.csv\",index_col=\"RA_Report #\")"
   ]
  },
  {
   "cell_type": "code",
   "execution_count": 30,
   "metadata": {},
   "outputs": [
    {
     "data": {
      "text/plain": [
       "(90786, 11)"
      ]
     },
     "execution_count": 30,
     "metadata": {},
     "output_type": "execute_result"
    }
   ],
   "source": [
    "df.shape"
   ]
  },
  {
   "cell_type": "markdown",
   "metadata": {
    "id": "ZNsScW4QwyiF"
   },
   "source": [
    "## Now we are filling missing values, trimming the leading space"
   ]
  },
  {
   "cell_type": "code",
   "execution_count": 31,
   "metadata": {
    "id": "YAAKBHX_xcVn"
   },
   "outputs": [],
   "source": [
    "#There are NaNs in symptoms, we need to rename them into None\n",
    "df[\"SYM_One Row Coded Symptoms\"].fillna(value=\"No Symptoms\",inplace=True)\n",
    "#There are leading spaces... We need to omit them\n",
    "df[\"SYM_One Row Coded Symptoms\"]=df[\"SYM_One Row Coded Symptoms\"].str.replace(', ', ',')\n",
    "df[\"AEC_One Row Outcomes\"]=df[\"AEC_One Row Outcomes\"].str.replace(', ', ',')"
   ]
  },
  {
   "cell_type": "markdown",
   "metadata": {},
   "source": [
    "## This code converts last two column from string to list, and convert it to long format"
   ]
  },
  {
   "cell_type": "code",
   "execution_count": 32,
   "metadata": {
    "colab": {
     "base_uri": "https://localhost:8080/"
    },
    "id": "qXkq5z31wyiG",
    "outputId": "d458a33f-8263-4ac9-993a-738008d76c4e"
   },
   "outputs": [],
   "source": [
    "df[\"SYM_One Row Coded Symptoms\"]=df[\"SYM_One Row Coded Symptoms\"].str.split(',').tolist()\n",
    "df[\"AEC_One Row Outcomes\"]=df[\"AEC_One Row Outcomes\"].str.split(',').tolist()"
   ]
  },
  {
   "cell_type": "code",
   "execution_count": 33,
   "metadata": {},
   "outputs": [],
   "source": [
    "df=df.explode(\"SYM_One Row Coded Symptoms\")\n",
    "df=df.explode(\"AEC_One Row Outcomes\")"
   ]
  },
  {
   "cell_type": "code",
   "execution_count": 34,
   "metadata": {},
   "outputs": [
    {
     "data": {
      "text/plain": [
       "(532287, 11)"
      ]
     },
     "execution_count": 34,
     "metadata": {},
     "output_type": "execute_result"
    }
   ],
   "source": [
    "df.shape"
   ]
  },
  {
   "cell_type": "code",
   "execution_count": 36,
   "metadata": {},
   "outputs": [
    {
     "data": {
      "text/html": [
       "<div>\n",
       "<style scoped>\n",
       "    .dataframe tbody tr th:only-of-type {\n",
       "        vertical-align: middle;\n",
       "    }\n",
       "\n",
       "    .dataframe tbody tr th {\n",
       "        vertical-align: top;\n",
       "    }\n",
       "\n",
       "    .dataframe thead th {\n",
       "        text-align: right;\n",
       "    }\n",
       "</style>\n",
       "<table border=\"1\" class=\"dataframe\">\n",
       "  <thead>\n",
       "    <tr style=\"text-align: right;\">\n",
       "      <th></th>\n",
       "      <th>RA_CAERS Created Date</th>\n",
       "      <th>AEC_Event Start Date</th>\n",
       "      <th>PRI_Product Role</th>\n",
       "      <th>PRI_Reported Brand/Product Name</th>\n",
       "      <th>PRI_FDA Industry Code</th>\n",
       "      <th>PRI_FDA Industry Name</th>\n",
       "      <th>CI_Age at Adverse Event</th>\n",
       "      <th>CI_Age Unit</th>\n",
       "      <th>CI_Gender</th>\n",
       "      <th>AEC_One Row Outcomes</th>\n",
       "      <th>SYM_One Row Coded Symptoms</th>\n",
       "    </tr>\n",
       "    <tr>\n",
       "      <th>RA_Report #</th>\n",
       "      <th></th>\n",
       "      <th></th>\n",
       "      <th></th>\n",
       "      <th></th>\n",
       "      <th></th>\n",
       "      <th></th>\n",
       "      <th></th>\n",
       "      <th></th>\n",
       "      <th></th>\n",
       "      <th></th>\n",
       "      <th></th>\n",
       "    </tr>\n",
       "  </thead>\n",
       "  <tbody>\n",
       "    <tr>\n",
       "      <th>116003</th>\n",
       "      <td>7/24/2009</td>\n",
       "      <td>NaN</td>\n",
       "      <td>Suspect</td>\n",
       "      <td>CENTRUM SILVER (MULTIMINERALS, MULTIVITAMINS) ...</td>\n",
       "      <td>54</td>\n",
       "      <td>Vit/Min/Prot/Unconv Diet(Human/Animal)</td>\n",
       "      <td>68.0</td>\n",
       "      <td>Year(s)</td>\n",
       "      <td>Female</td>\n",
       "      <td>VISITED A HEALTH CARE PROVIDER</td>\n",
       "      <td>DIARRHOEA</td>\n",
       "    </tr>\n",
       "    <tr>\n",
       "      <th>102407</th>\n",
       "      <td>4/15/2008</td>\n",
       "      <td>12/30/2007</td>\n",
       "      <td>Suspect</td>\n",
       "      <td>INTER-AMERICAN PRODUCTS CASHEWS HALVES AND PIECES</td>\n",
       "      <td>23</td>\n",
       "      <td>Nuts/Edible Seed</td>\n",
       "      <td>50.0</td>\n",
       "      <td>Year(s)</td>\n",
       "      <td>Female</td>\n",
       "      <td>NON-SERIOUS INJURIES/ ILLNESS</td>\n",
       "      <td>HEADACHE</td>\n",
       "    </tr>\n",
       "    <tr>\n",
       "      <th>185565</th>\n",
       "      <td>5/1/2015</td>\n",
       "      <td>3/20/2015</td>\n",
       "      <td>Concomitant</td>\n",
       "      <td>FISH OIL</td>\n",
       "      <td>54</td>\n",
       "      <td>Vit/Min/Prot/Unconv Diet(Human/Animal)</td>\n",
       "      <td>60.0</td>\n",
       "      <td>Year(s)</td>\n",
       "      <td>Female</td>\n",
       "      <td>VISITED AN ER</td>\n",
       "      <td>FLUSHING</td>\n",
       "    </tr>\n",
       "    <tr>\n",
       "      <th>179484</th>\n",
       "      <td>9/23/2014</td>\n",
       "      <td>NaN</td>\n",
       "      <td>Suspect</td>\n",
       "      <td>GNC GENETIX ELITE PHYSIQUE VITAPAK (DIETARY SU...</td>\n",
       "      <td>54</td>\n",
       "      <td>Vit/Min/Prot/Unconv Diet(Human/Animal)</td>\n",
       "      <td>36.0</td>\n",
       "      <td>Year(s)</td>\n",
       "      <td>Male</td>\n",
       "      <td>VISITED A HEALTH CARE PROVIDER</td>\n",
       "      <td>CHEST DISCOMFORT</td>\n",
       "    </tr>\n",
       "    <tr>\n",
       "      <th>133104</th>\n",
       "      <td>12/7/2010</td>\n",
       "      <td>10/8/2010</td>\n",
       "      <td>Suspect</td>\n",
       "      <td>CO Q -10 PLUS RED YEAST RICE</td>\n",
       "      <td>54</td>\n",
       "      <td>Vit/Min/Prot/Unconv Diet(Human/Animal)</td>\n",
       "      <td>64.0</td>\n",
       "      <td>Year(s)</td>\n",
       "      <td>Male</td>\n",
       "      <td>REQ. INTERVENTION TO PRVNT PERM. IMPRMNT.</td>\n",
       "      <td>HAEMATOCRIT DECREASED</td>\n",
       "    </tr>\n",
       "  </tbody>\n",
       "</table>\n",
       "</div>"
      ],
      "text/plain": [
       "            RA_CAERS Created Date AEC_Event Start Date PRI_Product Role  \\\n",
       "RA_Report #                                                               \n",
       "116003                  7/24/2009                  NaN          Suspect   \n",
       "102407                  4/15/2008           12/30/2007          Suspect   \n",
       "185565                   5/1/2015            3/20/2015      Concomitant   \n",
       "179484                  9/23/2014                  NaN          Suspect   \n",
       "133104                  12/7/2010            10/8/2010          Suspect   \n",
       "\n",
       "                               PRI_Reported Brand/Product Name  \\\n",
       "RA_Report #                                                      \n",
       "116003       CENTRUM SILVER (MULTIMINERALS, MULTIVITAMINS) ...   \n",
       "102407       INTER-AMERICAN PRODUCTS CASHEWS HALVES AND PIECES   \n",
       "185565                                                FISH OIL   \n",
       "179484       GNC GENETIX ELITE PHYSIQUE VITAPAK (DIETARY SU...   \n",
       "133104                            CO Q -10 PLUS RED YEAST RICE   \n",
       "\n",
       "             PRI_FDA Industry Code                   PRI_FDA Industry Name  \\\n",
       "RA_Report #                                                                  \n",
       "116003                          54  Vit/Min/Prot/Unconv Diet(Human/Animal)   \n",
       "102407                          23                        Nuts/Edible Seed   \n",
       "185565                          54  Vit/Min/Prot/Unconv Diet(Human/Animal)   \n",
       "179484                          54  Vit/Min/Prot/Unconv Diet(Human/Animal)   \n",
       "133104                          54  Vit/Min/Prot/Unconv Diet(Human/Animal)   \n",
       "\n",
       "             CI_Age at Adverse Event CI_Age Unit CI_Gender  \\\n",
       "RA_Report #                                                  \n",
       "116003                          68.0     Year(s)    Female   \n",
       "102407                          50.0     Year(s)    Female   \n",
       "185565                          60.0     Year(s)    Female   \n",
       "179484                          36.0     Year(s)      Male   \n",
       "133104                          64.0     Year(s)      Male   \n",
       "\n",
       "                                  AEC_One Row Outcomes  \\\n",
       "RA_Report #                                              \n",
       "116003                  VISITED A HEALTH CARE PROVIDER   \n",
       "102407                   NON-SERIOUS INJURIES/ ILLNESS   \n",
       "185565                                   VISITED AN ER   \n",
       "179484                  VISITED A HEALTH CARE PROVIDER   \n",
       "133104       REQ. INTERVENTION TO PRVNT PERM. IMPRMNT.   \n",
       "\n",
       "            SYM_One Row Coded Symptoms  \n",
       "RA_Report #                             \n",
       "116003                       DIARRHOEA  \n",
       "102407                        HEADACHE  \n",
       "185565                        FLUSHING  \n",
       "179484                CHEST DISCOMFORT  \n",
       "133104           HAEMATOCRIT DECREASED  "
      ]
     },
     "execution_count": 36,
     "metadata": {},
     "output_type": "execute_result"
    }
   ],
   "source": [
    "df.sample(5)"
   ]
  },
  {
   "cell_type": "markdown",
   "metadata": {},
   "source": [
    "## Converting Age to categories\n",
    "\n",
    "https://www.ncbi.nlm.nih.gov/pmc/articles/PMC3825015/"
   ]
  },
  {
   "cell_type": "code",
   "execution_count": null,
   "metadata": {},
   "outputs": [],
   "source": []
  }
 ],
 "metadata": {
  "colab": {
   "name": "Converting DF to networkx.ipynb",
   "provenance": []
  },
  "kernelspec": {
   "display_name": "Python 3",
   "language": "python",
   "name": "python3"
  },
  "language_info": {
   "codemirror_mode": {
    "name": "ipython",
    "version": 3
   },
   "file_extension": ".py",
   "mimetype": "text/x-python",
   "name": "python",
   "nbconvert_exporter": "python",
   "pygments_lexer": "ipython3",
   "version": "3.8.5"
  }
 },
 "nbformat": 4,
 "nbformat_minor": 1
}
